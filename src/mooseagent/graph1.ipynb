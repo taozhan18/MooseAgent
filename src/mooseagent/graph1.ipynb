{
 "cells": [
  {
   "cell_type": "code",
   "execution_count": null,
   "metadata": {},
   "outputs": [],
   "source": [
    "from dotenv import load_dotenv\n",
    "import sys\n",
    "\n",
    "load_dotenv()\n",
    "sys.path.append(\"../\")\n",
    "# from graph1 import graph"
   ]
  },
  {
   "cell_type": "code",
   "execution_count": null,
   "metadata": {},
   "outputs": [],
   "source": [
    "from IPython.display import Image, display\n",
    "\n",
    "display(Image(graph.get_graph(xray=1).draw_mermaid_png()))"
   ]
  },
  {
   "cell_type": "code",
   "execution_count": 15,
   "metadata": {},
   "outputs": [
    {
     "data": {
      "text/plain": [
       "'I am Qwen, a large language model developed by Alibaba Cloud. I have the ability to answer questions, create text such as stories, emails, scripts, and more. I can also perform logical reasoning, programming, express opinions, and play games. My capabilities are designed to assist users in a variety of tasks and provide engaging, informative responses.'"
      ]
     },
     "execution_count": 15,
     "metadata": {},
     "output_type": "execute_result"
    }
   ],
   "source": [
    "from langchain.llms import OpenAI\n",
    "from langchain_openai import ChatOpenAI\n",
    "from langchain.chat_models import init_chat_model\n",
    "from pydantic import BaseModel, Field\n",
    "from langchain_core.messages import AIMessage, SystemMessage, HumanMessage\n",
    "\n",
    "\n",
    "class AlignmentState(BaseModel):\n",
    "    detailed_description: str = Field(description=\"what you want to say\")\n",
    "\n",
    "\n",
    "# 如果你的第三方大模型兼容 OpenAI Completion 接口，可以这样用:\n",
    "llm = ChatOpenAI(\n",
    "    model_name=\"Qwen/QwQ-32B\",  # 或者换成你对应的模型\n",
    "    temperature=0.7,\n",
    "    base_url=\"https://api.siliconflow.cn/v1\",\n",
    "    api_key=\"sk-isdgjofhetjtwirzjjcrbaidzsonydgkmzfdqquymflnuaxh\",\n",
    ")\n",
    "llm = llm.with_structured_output(AlignmentState)\n",
    "res = llm.invoke(\n",
    "    [\n",
    "        SystemMessage(content=\"who you are?\"),\n",
    "    ]\n",
    ")\n",
    "res.detailed_description"
   ]
  }
 ],
 "metadata": {
  "kernelspec": {
   "display_name": "crewai-env",
   "language": "python",
   "name": "python3"
  },
  "language_info": {
   "codemirror_mode": {
    "name": "ipython",
    "version": 3
   },
   "file_extension": ".py",
   "mimetype": "text/x-python",
   "name": "python",
   "nbconvert_exporter": "python",
   "pygments_lexer": "ipython3",
   "version": "3.12.9"
  }
 },
 "nbformat": 4,
 "nbformat_minor": 2
}
